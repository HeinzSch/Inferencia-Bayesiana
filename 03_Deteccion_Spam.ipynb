{
 "cells": [
  {
   "cell_type": "markdown",
   "id": "5a6f10b0",
   "metadata": {},
   "source": [
    "## Importar librerías necesarias"
   ]
  },
  {
   "cell_type": "code",
   "execution_count": 1,
   "id": "f97ff11a",
   "metadata": {},
   "outputs": [],
   "source": [
    "import numpy as np\n",
    "import pandas as pd\n",
    "from sklearn.feature_extraction.text import TfidfVectorizer"
   ]
  },
  {
   "cell_type": "markdown",
   "id": "fc3df6ce",
   "metadata": {},
   "source": [
    "## Carga de datos"
   ]
  },
  {
   "cell_type": "code",
   "execution_count": 2,
   "id": "06023149",
   "metadata": {},
   "outputs": [
    {
     "data": {
      "text/html": [
       "<div>\n",
       "<style scoped>\n",
       "    .dataframe tbody tr th:only-of-type {\n",
       "        vertical-align: middle;\n",
       "    }\n",
       "\n",
       "    .dataframe tbody tr th {\n",
       "        vertical-align: top;\n",
       "    }\n",
       "\n",
       "    .dataframe thead th {\n",
       "        text-align: right;\n",
       "    }\n",
       "</style>\n",
       "<table border=\"1\" class=\"dataframe\">\n",
       "  <thead>\n",
       "    <tr style=\"text-align: right;\">\n",
       "      <th></th>\n",
       "      <th>v1</th>\n",
       "      <th>v2</th>\n",
       "      <th>Unnamed: 2</th>\n",
       "      <th>Unnamed: 3</th>\n",
       "      <th>Unnamed: 4</th>\n",
       "    </tr>\n",
       "  </thead>\n",
       "  <tbody>\n",
       "    <tr>\n",
       "      <th>0</th>\n",
       "      <td>ham</td>\n",
       "      <td>Go until jurong point, crazy.. Available only ...</td>\n",
       "      <td>NaN</td>\n",
       "      <td>NaN</td>\n",
       "      <td>NaN</td>\n",
       "    </tr>\n",
       "    <tr>\n",
       "      <th>1</th>\n",
       "      <td>ham</td>\n",
       "      <td>Ok lar... Joking wif u oni...</td>\n",
       "      <td>NaN</td>\n",
       "      <td>NaN</td>\n",
       "      <td>NaN</td>\n",
       "    </tr>\n",
       "    <tr>\n",
       "      <th>2</th>\n",
       "      <td>spam</td>\n",
       "      <td>Free entry in 2 a wkly comp to win FA Cup fina...</td>\n",
       "      <td>NaN</td>\n",
       "      <td>NaN</td>\n",
       "      <td>NaN</td>\n",
       "    </tr>\n",
       "    <tr>\n",
       "      <th>3</th>\n",
       "      <td>ham</td>\n",
       "      <td>U dun say so early hor... U c already then say...</td>\n",
       "      <td>NaN</td>\n",
       "      <td>NaN</td>\n",
       "      <td>NaN</td>\n",
       "    </tr>\n",
       "    <tr>\n",
       "      <th>4</th>\n",
       "      <td>ham</td>\n",
       "      <td>Nah I don't think he goes to usf, he lives aro...</td>\n",
       "      <td>NaN</td>\n",
       "      <td>NaN</td>\n",
       "      <td>NaN</td>\n",
       "    </tr>\n",
       "  </tbody>\n",
       "</table>\n",
       "</div>"
      ],
      "text/plain": [
       "     v1                                                 v2 Unnamed: 2  \\\n",
       "0   ham  Go until jurong point, crazy.. Available only ...        NaN   \n",
       "1   ham                      Ok lar... Joking wif u oni...        NaN   \n",
       "2  spam  Free entry in 2 a wkly comp to win FA Cup fina...        NaN   \n",
       "3   ham  U dun say so early hor... U c already then say...        NaN   \n",
       "4   ham  Nah I don't think he goes to usf, he lives aro...        NaN   \n",
       "\n",
       "  Unnamed: 3 Unnamed: 4  \n",
       "0        NaN        NaN  \n",
       "1        NaN        NaN  \n",
       "2        NaN        NaN  \n",
       "3        NaN        NaN  \n",
       "4        NaN        NaN  "
      ]
     },
     "execution_count": 2,
     "metadata": {},
     "output_type": "execute_result"
    }
   ],
   "source": [
    "df = pd.read_csv(\"data/spam.csv\",encoding='ISO-8859-1')\n",
    "df.head()"
   ]
  },
  {
   "cell_type": "markdown",
   "id": "cb7bf2c5",
   "metadata": {},
   "source": [
    "## Dummies spam y mensaje"
   ]
  },
  {
   "cell_type": "code",
   "execution_count": 3,
   "id": "9ae3672d",
   "metadata": {},
   "outputs": [],
   "source": [
    "df[\"spam\"] = np.where(df[\"v1\"]=='spam',1,0)"
   ]
  },
  {
   "cell_type": "code",
   "execution_count": 4,
   "id": "3e67516b",
   "metadata": {},
   "outputs": [
    {
     "data": {
      "text/html": [
       "<div>\n",
       "<style scoped>\n",
       "    .dataframe tbody tr th:only-of-type {\n",
       "        vertical-align: middle;\n",
       "    }\n",
       "\n",
       "    .dataframe tbody tr th {\n",
       "        vertical-align: top;\n",
       "    }\n",
       "\n",
       "    .dataframe thead th {\n",
       "        text-align: right;\n",
       "    }\n",
       "</style>\n",
       "<table border=\"1\" class=\"dataframe\">\n",
       "  <thead>\n",
       "    <tr style=\"text-align: right;\">\n",
       "      <th></th>\n",
       "      <th>message</th>\n",
       "      <th>spam</th>\n",
       "    </tr>\n",
       "  </thead>\n",
       "  <tbody>\n",
       "    <tr>\n",
       "      <th>0</th>\n",
       "      <td>Go until jurong point, crazy.. Available only ...</td>\n",
       "      <td>0</td>\n",
       "    </tr>\n",
       "    <tr>\n",
       "      <th>1</th>\n",
       "      <td>Ok lar... Joking wif u oni...</td>\n",
       "      <td>0</td>\n",
       "    </tr>\n",
       "    <tr>\n",
       "      <th>2</th>\n",
       "      <td>Free entry in 2 a wkly comp to win FA Cup fina...</td>\n",
       "      <td>1</td>\n",
       "    </tr>\n",
       "    <tr>\n",
       "      <th>3</th>\n",
       "      <td>U dun say so early hor... U c already then say...</td>\n",
       "      <td>0</td>\n",
       "    </tr>\n",
       "    <tr>\n",
       "      <th>4</th>\n",
       "      <td>Nah I don't think he goes to usf, he lives aro...</td>\n",
       "      <td>0</td>\n",
       "    </tr>\n",
       "  </tbody>\n",
       "</table>\n",
       "</div>"
      ],
      "text/plain": [
       "                                             message  spam\n",
       "0  Go until jurong point, crazy.. Available only ...     0\n",
       "1                      Ok lar... Joking wif u oni...     0\n",
       "2  Free entry in 2 a wkly comp to win FA Cup fina...     1\n",
       "3  U dun say so early hor... U c already then say...     0\n",
       "4  Nah I don't think he goes to usf, he lives aro...     0"
      ]
     },
     "execution_count": 4,
     "metadata": {},
     "output_type": "execute_result"
    }
   ],
   "source": [
    "df_clean= df[[\"v2\",\"spam\"]]\n",
    "df_clean.columns = [\"message\",\"spam\"]\n",
    "df_clean.head()"
   ]
  },
  {
   "cell_type": "markdown",
   "id": "8d3ede1e",
   "metadata": {},
   "source": [
    "## Cantidad de Datos"
   ]
  },
  {
   "cell_type": "code",
   "execution_count": 5,
   "id": "12dc312f",
   "metadata": {},
   "outputs": [
    {
     "data": {
      "text/plain": [
       "5572"
      ]
     },
     "execution_count": 5,
     "metadata": {},
     "output_type": "execute_result"
    }
   ],
   "source": [
    "df_clean.shape[0]"
   ]
  },
  {
   "cell_type": "markdown",
   "id": "884d40d5",
   "metadata": {},
   "source": [
    "## Divido el Dataset para saber la proporción entre mensajes con span y normales"
   ]
  },
  {
   "cell_type": "code",
   "execution_count": 6,
   "id": "04049514",
   "metadata": {},
   "outputs": [
    {
     "name": "stdout",
     "output_type": "stream",
     "text": [
      "Cantidad de spam y ham (no spam):\n",
      "Cantidad de Spam: 747\n",
      "Cantidad de no Spam: 4825\n"
     ]
    }
   ],
   "source": [
    "spam_df = df_clean.loc[df_clean[\"spam\"]==1]\n",
    "ham_df = df_clean.loc[df_clean[\"spam\"]==0]\n",
    "print(f\"Cantidad de spam y ham (no spam):\\nCantidad de Spam: {spam_df.shape[0]}\\nCantidad de no Spam: {ham_df.shape[0]}\")"
   ]
  },
  {
   "cell_type": "code",
   "execution_count": 7,
   "id": "71a139ef",
   "metadata": {},
   "outputs": [
    {
     "data": {
      "text/plain": [
       "{'free': 8,\n",
       " 'win': 27,\n",
       " 'text': 20,\n",
       " 'txt': 22,\n",
       " 'week': 26,\n",
       " 'send': 17,\n",
       " '50': 3,\n",
       " 'prize': 15,\n",
       " 'claim': 5,\n",
       " 'mobile': 11,\n",
       " 'cash': 4,\n",
       " '150p': 0,\n",
       " '16': 1,\n",
       " 'reply': 16,\n",
       " 'urgent': 25,\n",
       " 'won': 28,\n",
       " 'www': 29,\n",
       " 'com': 6,\n",
       " 'ur': 24,\n",
       " 'uk': 23,\n",
       " 'msg': 12,\n",
       " 'nokia': 14,\n",
       " 'new': 13,\n",
       " '18': 2,\n",
       " 'service': 18,\n",
       " 'guaranteed': 9,\n",
       " 'contact': 7,\n",
       " 'stop': 19,\n",
       " 'just': 10,\n",
       " 'tone': 21}"
      ]
     },
     "execution_count": 7,
     "metadata": {},
     "output_type": "execute_result"
    }
   ],
   "source": [
    "vectorizer_spam = TfidfVectorizer(stop_words='english',max_features=30)\n",
    "vectorizer_spam.fit(spam_df[\"message\"])\n",
    "vectorizer_spam.vocabulary_"
   ]
  },
  {
   "cell_type": "markdown",
   "id": "a5dc01cb",
   "metadata": {},
   "source": [
    "## Escogemos la palabra Cash para usar en la frmula"
   ]
  },
  {
   "cell_type": "code",
   "execution_count": 8,
   "id": "7dcc7ae0",
   "metadata": {
    "scrolled": false
   },
   "outputs": [],
   "source": [
    "from functools import partial, reduce\n",
    "import operator as op\n",
    "word = \"cash\"\n",
    "def word_in_text(x,word):\n",
    "    if word in x[1].values[0]:\n",
    "        return 1\n",
    "    else:\n",
    "        return 0"
   ]
  },
  {
   "cell_type": "markdown",
   "id": "d4025150",
   "metadata": {},
   "source": [
    "calculamos $p(w|s)$"
   ]
  },
  {
   "cell_type": "code",
   "execution_count": 9,
   "id": "6ad12d90",
   "metadata": {},
   "outputs": [],
   "source": [
    "spam_word_count = reduce(op.add,list(map(partial(word_in_text,word=word),spam_df.iterrows())))\n",
    "spam_count = spam_df.shape[0]"
   ]
  },
  {
   "cell_type": "code",
   "execution_count": 10,
   "id": "ddbad4fd",
   "metadata": {},
   "outputs": [
    {
     "name": "stdout",
     "output_type": "stream",
     "text": [
      "probabilidad p(w|s) : 6.8273%\n"
     ]
    }
   ],
   "source": [
    "prob_of_word_given_spam = op.truediv(spam_word_count,spam_count)\n",
    "print(f\"probabilidad p(w|s) : {round(prob_of_word_given_spam,6)*100}%\")"
   ]
  },
  {
   "cell_type": "markdown",
   "id": "760ca1b0",
   "metadata": {},
   "source": [
    "calculamos $p(w)$"
   ]
  },
  {
   "cell_type": "code",
   "execution_count": 11,
   "id": "d1b7b89c",
   "metadata": {},
   "outputs": [],
   "source": [
    "msg_word_count = reduce(op.add,list(map(partial(word_in_text,word=word),df_clean.iterrows())))\n",
    "msg_count = df_clean.shape[0]"
   ]
  },
  {
   "cell_type": "code",
   "execution_count": 12,
   "id": "96c4ce1b",
   "metadata": {},
   "outputs": [
    {
     "name": "stdout",
     "output_type": "stream",
     "text": [
      "probabilidad p(w) : 1.1486%\n"
     ]
    }
   ],
   "source": [
    "prob_of_word = op.truediv(msg_word_count,msg_count)\n",
    "print(f\"probabilidad p(w) : {round(prob_of_word,6)*100}%\")"
   ]
  },
  {
   "cell_type": "markdown",
   "id": "23a91069",
   "metadata": {},
   "source": [
    "calculamos $p(s)$"
   ]
  },
  {
   "cell_type": "code",
   "execution_count": 13,
   "id": "6bdc3fbe",
   "metadata": {},
   "outputs": [
    {
     "name": "stdout",
     "output_type": "stream",
     "text": [
      "probabilidad p(s) : 13.406299999999998%\n"
     ]
    }
   ],
   "source": [
    "prob_of_spam = op.truediv(spam_count,df_clean.shape[0])\n",
    "print(f\"probabilidad p(s) : {round(prob_of_spam,6)*100}%\")"
   ]
  },
  {
   "cell_type": "markdown",
   "id": "d8df6f36",
   "metadata": {},
   "source": [
    "Se quiere calcular $p(s|w) $\n",
    "\n",
    "Por el teorema de Bayes se sabe que esto es igual a:\n",
    "\n",
    "$$ p(spam|cash) = \\frac{p(cash|spam)* p(spam) }{p(cash)} $$"
   ]
  },
  {
   "cell_type": "code",
   "execution_count": 14,
   "id": "b97169e3",
   "metadata": {},
   "outputs": [
    {
     "name": "stdout",
     "output_type": "stream",
     "text": [
      "La probabilidad de que el mensaje sea spam es:\n",
      "79.6875%\n"
     ]
    }
   ],
   "source": [
    "prob_s_w  = op.truediv(op.mul(prob_of_word_given_spam,prob_of_spam),prob_of_word) \n",
    "print(f\"La probabilidad de que el mensaje sea spam es:\\n{round(prob_s_w,6)*100}%\")"
   ]
  },
  {
   "cell_type": "markdown",
   "id": "322f0155",
   "metadata": {},
   "source": [
    "Podemos probar múltiples combinaciones de palabras y obtener las probabilidades individuales de qué nos digan que tan probable son aquellas combinaciones, como lo han visto ahora. Refinando esto y haciéndonos la siguiente pregunta: Dada una cantidad de palabras, ¿Cuál es la probabilidad de que el mensaje sea spam dado ese conjunto de palabras? \n",
    "\n",
    "**Lo podemos calcular con la siguiente fórmula:**"
   ]
  },
  {
   "cell_type": "markdown",
   "id": "7ddc08ad",
   "metadata": {},
   "source": [
    "carlos.schoenfeldt@gmail.com"
   ]
  },
  {
   "cell_type": "code",
   "execution_count": null,
   "id": "c7dd2eec",
   "metadata": {},
   "outputs": [],
   "source": []
  }
 ],
 "metadata": {
  "kernelspec": {
   "display_name": "Python 3 (ipykernel)",
   "language": "python",
   "name": "python3"
  },
  "language_info": {
   "codemirror_mode": {
    "name": "ipython",
    "version": 3
   },
   "file_extension": ".py",
   "mimetype": "text/x-python",
   "name": "python",
   "nbconvert_exporter": "python",
   "pygments_lexer": "ipython3",
   "version": "3.9.7"
  }
 },
 "nbformat": 4,
 "nbformat_minor": 5
}
