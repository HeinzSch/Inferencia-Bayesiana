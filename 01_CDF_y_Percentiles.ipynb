{
 "cells": [
  {
   "cell_type": "code",
   "execution_count": 1,
   "id": "bf3003a9",
   "metadata": {},
   "outputs": [],
   "source": [
    "import numpy as np\n",
    "import matplotlib.pyplot as plt\n",
    "import random\n",
    "from scipy.stats import norm"
   ]
  },
  {
   "cell_type": "code",
   "execution_count": 2,
   "id": "841221e4",
   "metadata": {},
   "outputs": [],
   "source": [
    "mu=170 # Altura promedio\n",
    "sd = 7"
   ]
  },
  {
   "cell_type": "code",
   "execution_count": 3,
   "id": "154f5366",
   "metadata": {},
   "outputs": [],
   "source": [
    "#Generar datos de una normal(170,7**2)\n",
    "x = norm.rvs(loc=mu,scale=sd,size=100)"
   ]
  },
  {
   "cell_type": "code",
   "execution_count": 8,
   "id": "7b0e6cd5",
   "metadata": {},
   "outputs": [
    {
     "data": {
      "text/plain": [
       "Text(0.5, 0, 'observaciones')"
      ]
     },
     "execution_count": 8,
     "metadata": {},
     "output_type": "execute_result"
    },
    {
     "data": {
      "image/png": "[encoded data removed]",
      "text/plain": [
       "<Figure size 432x288 with 1 Axes>"
      ]
     },
     "metadata": {
      "needs_background": "light"
     },
     "output_type": "display_data"
    }
   ],
   "source": [
    "plt.hist(x);\n",
    "plt.title(\"Histograma\")\n",
    "plt.ylabel(\"Frecuencia\")\n",
    "plt.xlabel(\"observaciones\")"
   ]
  },
  {
   "cell_type": "code",
   "execution_count": 9,
   "id": "4055fba7",
   "metadata": {},
   "outputs": [
    {
     "data": {
      "text/plain": [
       "170.7964048662964"
      ]
     },
     "execution_count": 9,
     "metadata": {},
     "output_type": "execute_result"
    }
   ],
   "source": [
    "# Media MLE\n",
    "x.mean()"
   ]
  },
  {
   "cell_type": "code",
   "execution_count": 10,
   "id": "bcdd8726",
   "metadata": {},
   "outputs": [
    {
     "data": {
      "text/plain": [
       "43.58754703311138"
      ]
     },
     "execution_count": 10,
     "metadata": {},
     "output_type": "execute_result"
    }
   ],
   "source": [
    "# Varianza MLE\n",
    "x.var()"
   ]
  },
  {
   "cell_type": "code",
   "execution_count": 11,
   "id": "6b20b973",
   "metadata": {},
   "outputs": [
    {
     "data": {
      "text/plain": [
       "6.60208656661751"
      ]
     },
     "execution_count": 11,
     "metadata": {},
     "output_type": "execute_result"
    }
   ],
   "source": [
    "# Desviacion estandar MLE\n",
    "x.std()"
   ]
  },
  {
   "cell_type": "code",
   "execution_count": 12,
   "id": "a7fe16f8",
   "metadata": {},
   "outputs": [
    {
     "data": {
      "text/plain": [
       "44.02782528597109"
      ]
     },
     "execution_count": 12,
     "metadata": {},
     "output_type": "execute_result"
    }
   ],
   "source": [
    "# Desviacion típica insesgada (cuasivarianza)\n",
    "x.var(ddof=1)"
   ]
  },
  {
   "cell_type": "code",
   "execution_count": 21,
   "id": "f5aafc8b",
   "metadata": {},
   "outputs": [
    {
     "data": {
      "text/plain": [
       "181.5139753886603"
      ]
     },
     "execution_count": 21,
     "metadata": {},
     "output_type": "execute_result"
    }
   ],
   "source": [
    "# Qué altura tiene alguien que está en el percentil 95?\n",
    "norm.ppf(0.95,loc=mu,scale=sd)"
   ]
  },
  {
   "cell_type": "code",
   "execution_count": 22,
   "id": "707c1637",
   "metadata": {},
   "outputs": [],
   "source": [
    "norm.ppf?"
   ]
  },
  {
   "cell_type": "code",
   "execution_count": 23,
   "id": "f2ca5b6a",
   "metadata": {},
   "outputs": [
    {
     "data": {
      "text/plain": [
       "0.4432015031835318"
      ]
     },
     "execution_count": 23,
     "metadata": {},
     "output_type": "execute_result"
    }
   ],
   "source": [
    "# Si mides 169 cm de altura, en qué percentil estás?\n",
    "norm.cdf(169,loc=mu,scale=sd)"
   ]
  },
  {
   "cell_type": "code",
   "execution_count": 24,
   "id": "318d010f",
   "metadata": {},
   "outputs": [
    {
     "data": {
      "text/plain": [
       "0.23752526202697655"
      ]
     },
     "execution_count": 24,
     "metadata": {},
     "output_type": "execute_result"
    }
   ],
   "source": [
    "# Si mides 175 cm, cuál es la probabilidad de que alguien sea más alto que tú?\n",
    "1-norm.cdf(175,loc=mu,scale=sd)"
   ]
  },
  {
   "cell_type": "code",
   "execution_count": null,
   "id": "27b8aae6",
   "metadata": {},
   "outputs": [],
   "source": []
  }
 ],
 "metadata": {
  "kernelspec": {
   "display_name": "Python 3 (ipykernel)",
   "language": "python",
   "name": "python3"
  },
  "language_info": {
   "codemirror_mode": {
    "name": "ipython",
    "version": 3
   },
   "file_extension": ".py",
   "mimetype": "text/x-python",
   "name": "python",
   "nbconvert_exporter": "python",
   "pygments_lexer": "ipython3",
   "version": "3.9.7"
  }
 },
 "nbformat": 4,
 "nbformat_minor": 5
}
